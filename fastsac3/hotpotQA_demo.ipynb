{
 "cells": [
  {
   "cell_type": "code",
   "execution_count": 11,
   "id": "673b3b49-2aef-409d-815c-daa0fe04fff9",
   "metadata": {},
   "outputs": [
    {
     "name": "stdout",
     "output_type": "stream",
     "text": [
      "Requirement already satisfied: openai==0.28 in /Users/jzhang19/miniforge3/lib/python3.10/site-packages (0.28.0)\n",
      "Requirement already satisfied: requests>=2.20 in /Users/jzhang19/miniforge3/lib/python3.10/site-packages (from openai==0.28) (2.31.0)\n",
      "Requirement already satisfied: tqdm in /Users/jzhang19/miniforge3/lib/python3.10/site-packages (from openai==0.28) (4.66.1)\n",
      "Requirement already satisfied: aiohttp in /Users/jzhang19/miniforge3/lib/python3.10/site-packages (from openai==0.28) (3.8.6)\n",
      "Requirement already satisfied: charset-normalizer<4,>=2 in /Users/jzhang19/miniforge3/lib/python3.10/site-packages (from requests>=2.20->openai==0.28) (3.3.0)\n",
      "Requirement already satisfied: idna<4,>=2.5 in /Users/jzhang19/miniforge3/lib/python3.10/site-packages (from requests>=2.20->openai==0.28) (3.4)\n",
      "Requirement already satisfied: urllib3<3,>=1.21.1 in /Users/jzhang19/miniforge3/lib/python3.10/site-packages (from requests>=2.20->openai==0.28) (1.26.15)\n",
      "Requirement already satisfied: certifi>=2017.4.17 in /Users/jzhang19/miniforge3/lib/python3.10/site-packages (from requests>=2.20->openai==0.28) (2023.7.22)\n",
      "Requirement already satisfied: attrs>=17.3.0 in /Users/jzhang19/miniforge3/lib/python3.10/site-packages (from aiohttp->openai==0.28) (23.1.0)\n",
      "Requirement already satisfied: multidict<7.0,>=4.5 in /Users/jzhang19/miniforge3/lib/python3.10/site-packages (from aiohttp->openai==0.28) (6.0.4)\n",
      "Requirement already satisfied: async-timeout<5.0,>=4.0.0a3 in /Users/jzhang19/miniforge3/lib/python3.10/site-packages (from aiohttp->openai==0.28) (4.0.3)\n",
      "Requirement already satisfied: yarl<2.0,>=1.0 in /Users/jzhang19/miniforge3/lib/python3.10/site-packages (from aiohttp->openai==0.28) (1.9.2)\n",
      "Requirement already satisfied: frozenlist>=1.1.1 in /Users/jzhang19/miniforge3/lib/python3.10/site-packages (from aiohttp->openai==0.28) (1.4.0)\n",
      "Requirement already satisfied: aiosignal>=1.1.2 in /Users/jzhang19/miniforge3/lib/python3.10/site-packages (from aiohttp->openai==0.28) (1.3.1)\n",
      "\n",
      "\u001b[1m[\u001b[0m\u001b[34;49mnotice\u001b[0m\u001b[1;39;49m]\u001b[0m\u001b[39;49m A new release of pip is available: \u001b[0m\u001b[31;49m23.3.1\u001b[0m\u001b[39;49m -> \u001b[0m\u001b[32;49m24.0\u001b[0m\n",
      "\u001b[1m[\u001b[0m\u001b[34;49mnotice\u001b[0m\u001b[1;39;49m]\u001b[0m\u001b[39;49m To update, run: \u001b[0m\u001b[32;49mpip install --upgrade pip\u001b[0m\n"
     ]
    }
   ],
   "source": [
    "!pip install openai==0.28"
   ]
  },
  {
   "cell_type": "code",
   "execution_count": 12,
   "id": "80f51fe6-ee5e-4117-8b94-47275d7ec977",
   "metadata": {},
   "outputs": [],
   "source": [
    "from datasets import load_dataset \n",
    "from evaluator_fast import Evaluate\n",
    "from consistency_checker_fast import SemanticConsistnecyCheck\n",
    "import time\n",
    "from tqdm import tqdm\n",
    "from sklearn.metrics import roc_auc_score\n",
    "\n",
    "qa_data = load_dataset(\"json\", data_files=\"dataset/hotpotQA_halu.json\")"
   ]
  },
  {
   "cell_type": "code",
   "execution_count": 13,
   "id": "2f5e4ea8-19f0-4bb8-80e8-c0137bea8fe7",
   "metadata": {},
   "outputs": [],
   "source": [
    "def hallucination_score(question, target_answer, model, num_samples):\n",
    "    \n",
    "    # llm evaluation\n",
    "    llm_evaluate = Evaluate(model=model)\n",
    "    scc = SemanticConsistnecyCheck(model=model)\n",
    "    # fast self-evaluation\n",
    "    fast_self_responses = llm_evaluate.self_evaluate_api(self_question = question, temperature = 1.0, self_num = num_samples)\n",
    "    # fast consistency checker \n",
    "    fast_consistency_res = scc.score_scc_api(question, target_answer, candidate_answers = fast_self_responses, temperature = 0.0)\n",
    "    \n",
    "    return fast_consistency_res[0]"
   ]
  },
  {
   "cell_type": "code",
   "execution_count": 14,
   "id": "b11a22d1-9cb1-4c15-8761-d1b0d307cd43",
   "metadata": {},
   "outputs": [
    {
     "name": "stderr",
     "output_type": "stream",
     "text": [
      "100%|███████████████████████████████████████████| 10/10 [00:17<00:00,  1.78s/it]\n"
     ]
    },
    {
     "name": "stdout",
     "output_type": "stream",
     "text": [
      "Time per query 1.7763252973556518\n",
      "AUROC score 0.62\n"
     ]
    },
    {
     "name": "stderr",
     "output_type": "stream",
     "text": [
      "100%|███████████████████████████████████████████| 10/10 [00:19<00:00,  1.97s/it]\n"
     ]
    },
    {
     "name": "stdout",
     "output_type": "stream",
     "text": [
      "Time per query 1.965973401069641\n",
      "AUROC score 0.8\n"
     ]
    },
    {
     "name": "stderr",
     "output_type": "stream",
     "text": [
      "100%|███████████████████████████████████████████| 10/10 [00:20<00:00,  2.02s/it]\n"
     ]
    },
    {
     "name": "stdout",
     "output_type": "stream",
     "text": [
      "Time per query 2.016736102104187\n",
      "AUROC score 0.68\n"
     ]
    },
    {
     "name": "stderr",
     "output_type": "stream",
     "text": [
      "100%|███████████████████████████████████████████| 10/10 [00:21<00:00,  2.16s/it]"
     ]
    },
    {
     "name": "stdout",
     "output_type": "stream",
     "text": [
      "Time per query 2.1567198038101196\n",
      "AUROC score 0.74\n"
     ]
    },
    {
     "name": "stderr",
     "output_type": "stream",
     "text": [
      "\n"
     ]
    }
   ],
   "source": [
    "# fastsac3 hallucation scores\n",
    "\n",
    "n_data = 10\n",
    "model = 'gpt-3.5-turbo'\n",
    "num_samples_list = [3,5,10,15]\n",
    "\n",
    "for num_samples in num_samples_list:\n",
    "    \n",
    "    t0 = time.time()\n",
    "    halu_score_all = []\n",
    "    filename = 'halu_fastsac3_' + str(n_data) + '_' + str(num_samples) + '.txt'\n",
    "\n",
    "    for i in tqdm(range(n_data)):\n",
    "        if i <= n_data // 2:\n",
    "            target_answer = qa_data['train'][i]['hallucinated_answer']\n",
    "        else:\n",
    "            target_answer = qa_data['train'][i]['right_answer']\n",
    "\n",
    "        question = qa_data['train'][i]['question']\n",
    "        halu_score = hallucination_score(question, target_answer, model, num_samples)\n",
    "        halu_score_all.append(halu_score)\n",
    "\n",
    "    # auroc \n",
    "    print('Time per query', (time.time()-t0)/n_data)\n",
    "    true_label = [1]*(n_data // 2) + [0] * (n_data // 2)\n",
    "    roc_auc = roc_auc_score(true_label,halu_score_all)\n",
    "    print('AUROC score', roc_auc)\n",
    "        "
   ]
  },
  {
   "cell_type": "code",
   "execution_count": null,
   "id": "36a1d448-fec3-4fbc-8703-d847e13f1a6c",
   "metadata": {},
   "outputs": [],
   "source": []
  }
 ],
 "metadata": {
  "kernelspec": {
   "display_name": "Python 3 (ipykernel)",
   "language": "python",
   "name": "python3"
  },
  "language_info": {
   "codemirror_mode": {
    "name": "ipython",
    "version": 3
   },
   "file_extension": ".py",
   "mimetype": "text/x-python",
   "name": "python",
   "nbconvert_exporter": "python",
   "pygments_lexer": "ipython3",
   "version": "3.10.6"
  }
 },
 "nbformat": 4,
 "nbformat_minor": 5
}
