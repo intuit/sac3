{
 "cells": [
  {
   "cell_type": "code",
   "execution_count": 1,
   "id": "62c8b499-a16e-4d0b-906d-93c8cfb5e440",
   "metadata": {},
   "outputs": [],
   "source": [
    "from sac3 import paraphraser\n",
    "from sac3.evaluator_fast import Evaluate\n",
    "from sac3.consistency_checker_fast import SemanticConsistnecyCheck\n",
    "import time"
   ]
  },
  {
   "cell_type": "code",
   "execution_count": 2,
   "id": "1277bd32-4b64-4c9a-9532-d2d56a90d87d",
   "metadata": {},
   "outputs": [],
   "source": [
    "# input information\n",
    "question = 'is 3691 a prime number?'\n",
    "target_answer = 'Yes, it is a prime number.'\n",
    "\n",
    "# llm evaluation\n",
    "llm_evaluate = Evaluate(model='gpt-3.5-turbo')"
   ]
  },
  {
   "cell_type": "code",
   "execution_count": 3,
   "id": "6fed6a3c-ef0c-4d60-9c24-5500c08e07d6",
   "metadata": {},
   "outputs": [
    {
     "name": "stdout",
     "output_type": "stream",
     "text": [
      "self evaluation time 56.77655100822449\n",
      "self_responses ['To determine if 3691 is a prime number, we need to check if it is divisible by any number other than 1 and itself.\\n\\nBy trying to divide 3691 by numbers starting from 2 and going up to the square root of 3691 (which is approximately 60.74), we find that it is not divisible evenly by any whole number between 2 and the square root. Therefore, 3691 is a prime number.', 'Yes, 3691 is a prime number.', 'To determine if 3691 is a prime number, we need to check if it is divisible by any numbers other than 1 and itself.\\n\\nChecking divisibility, we can start by dividing 3691 by 2, but we find that it is not divisible evenly. \\n\\nNext, we try dividing it by odd numbers up to the square root of 3691, which is approximately 60.75. \\n\\nDividing 3691 by numbers like 3, 5, 7, 11, 13, 17, etc., we find that it is not divisible by any of these numbers. \\n\\nTherefore, we can conclude that 3691 is indeed a prime number.', 'To determine if 3691 is a prime number, we need to check if it is divisible by any number other than 1 and itself.\\n\\nTaking the prime factorization approach, we can check divisibility up to the square root of 3691, which is approximately 60.78. \\n\\nUpon checking, we find that 3691 is not divisible by any prime numbers less than or equal to 60.78. Therefore, we can conclude that 3691 is a prime number.', 'To determine if 3691 is a prime number, we need to check if it is divisible by any numbers other than 1 and itself.\\n\\nBy testing for divisibility, we find that 3691 is not divisible evenly by any numbers up to its square root (√3691 ≈ 60.74). Therefore, we can conclude that 3691 is a prime number.', 'To determine if 3691 is a prime number, we need to check if it is divisible by any number other than 1 and itself. \\n\\nBy performing the divisibility test, we can check if it is divisible by any primes up to the square root of 3691, which is approximately 60.8.\\n\\nAfter checking for divisibility, we find that 3691 is not divisible by any numbers other than 1 and itself. Therefore, 3691 is a prime number.', 'To determine if 3691 is a prime number, we need to check if it is divisible by any number other than 1 and itself.\\n\\nWe can check the divisibility of 3691 by dividing it by prime numbers up to the square root of 3691, which is approximately 60.74. \\n\\nUpon checking, we find that 3691 is not divisible by 2, 3, 5, or any other prime numbers up to 60. Therefore, we can conclude that 3691 is a prime number as it is only divisible by 1 and itself.', 'To determine if 3691 is a prime number, we need to check if it has any factors other than 1 and itself. We can do this by finding its divisors.\\n\\nDividing 3691 by numbers from 2 to its square root, we find that it is not divisible by 2, 3, 5, 7, 11, 13, 17, 19, 23, 29, 31, 37, 41, 43, 47, 53, 59, 61, 67, 71, 73, 79, 83, 89, 97, 101, 103, or 107.\\n\\nTherefore, we can conclude that 3691 is a prime number since it does not have any factors other than 1 and itself.', 'To determine whether 3691 is a prime number, we need to check if it is divisible by any number other than 1 and itself. \\n\\nWhen we divide 3691 by numbers starting from 2 up to the square root of 3691 (which is approximately 60.81), we find that it is not divisible evenly by any of these numbers. \\n\\nTherefore, 3691 is indeed a prime number.', 'To determine if 3691 is a prime number, we need to check if it is divisible by any whole number other than 1 and itself.\\n\\nTo do this, we can check divisibility by numbers up to the square root of 3691 (approximately 60.75). If there is no whole number divisor found, then 3691 is a prime number.\\n\\nPerforming the divisibility test, we find that 3691 is not divisible by any whole number between 2 and 60. Therefore, we can conclude that 3691 is a prime number.']\n"
     ]
    }
   ],
   "source": [
    "# self-evaluation \n",
    "t0 = time.time()\n",
    "self_responses = llm_evaluate.self_evaluate(self_question = question, temperature = 1.0, self_num = 10)\n",
    "print('self evaluation time', time.time()-t0)\n",
    "print('self_responses', self_responses)"
   ]
  },
  {
   "cell_type": "code",
   "execution_count": 4,
   "id": "1395cf38-4c4d-44eb-8417-43c60e81f1f9",
   "metadata": {},
   "outputs": [
    {
     "name": "stdout",
     "output_type": "stream",
     "text": [
      "fast self evaluation time 11.840163946151733\n",
      "fast self_responses ['To determine if 3691 is a prime number, we can check if it has any factors other than 1 and itself. We can do this by dividing 3691 by all numbers from 2 to the square root of 3691. \\n\\nUpon dividing, we find that 3691 is not divisible evenly by any number between 2 and the square root of 3691. Therefore, 3691 is a prime number.\\n\\nTherefore, 3691 is a prime number.', 'To determine if 3691 is a prime number, we can check if it has any divisors other than 1 and itself. \\n\\nTo do this, we can check if any prime numbers less than the square root of 3691 divide evenly into it. \\n\\nThe square root of 3691 is approximately 60.828. \\n\\nChecking prime numbers up to 60, we find that 7 and 53 are divisors of 3691. \\n\\nTherefore, 3691 is not a prime number.', 'To determine if 3691 is a prime number, we can check if it is divisible by any whole number between 2 and the square root of 3691. \\n\\nThe square root of 3691 is approximately 60.82. \\n\\nNext, we proceed to check if 3691 is divisible by any whole number starting from 2 up to 60. \\n\\nUpon checking, we find that 3691 is not divisible by any of these numbers. \\n\\nTherefore, 3691 is a prime number.', 'To determine whether 3691 is a prime number, we need to check if it is divisible by any number other than 1 and itself.\\n\\nTo do so, we can check if it is divisible by numbers up to the square root of 3691, which is approximately 60.7. We only need to check whole numbers, so we will check divisibility up to 60.\\n\\nBy going through the divisibility up to 60, we find that 3691 is not divisible by any number other than 1 and itself. Therefore, 3691 is a prime number.', 'To determine if 3691 is a prime number, we can check if it is divisible by any whole numbers greater than 1 and less than or equal to its square root (√3691 ≈ 60.8). \\n\\nWe find that 3691 is not divisible by 2, 3, 5, 7, 11, 13, 17, 19, 23, 29, 31, 37, 41, 43, 47, 53, or any other prime numbers less than or equal to its square root.\\n\\nTherefore, 3691 is a prime number.', 'To determine whether 3691 is a prime number, we can check if it is divisible by any number other than 1 and itself. Starting from 2 and going up to the square root of 3691 (which is approximately 60.78), we can check if any of these numbers divide evenly into 3691.\\n\\nPerforming this calculation, we find that 3691 is not divisible by 2, 3, 5, 7, 11, 13, and so on up to 60. This indicates that 3691 does not have any factors other than 1 and itself, meaning it is a prime number.\\n\\nTherefore, 3691 is a prime number.', \"To determine if 3691 is a prime number, we can check if it is divisible by any number other than 1 and itself. Calculating its square root, we find that √3691 ≈ 60.91. \\nNow, let's check if 3691 is divisible by any prime numbers less than or equal to 60.91: 2, 3, 5, 7, 11, 13, 17, 19, 23, 29, 31, 37, 41, 43, 47, 53, and 59.\\n\\nDividing 3691 by each of these numbers, we find that it is not divisible by any of them. Hence, 3691 is a prime number.\", \"To determine if 3691 is a prime number, we need to check if it can only be divided evenly by 1 and itself. \\n\\nLet's try to divide 3691 by numbers other than 1 and itself: \\n\\n3691 ÷ 2 = 1845.5 (not a whole number) \\n3691 ÷ 3 = 1230.333 (not a whole number) \\n3691 ÷ 4 = 922.75 (not a whole number) \\n3691 ÷ 5 = 738.2 (not a whole number) \\n3691 ÷ 6 = 615.1667 (not a whole number) \\n\\nSince none of these divisions result in whole numbers, we can conclude that 3691 is indeed a prime number.\", 'To determine if 3691 is a prime number, we need to check if it has any factors other than 1 and itself. We can try dividing 3691 by prime numbers less than its square root (which is approximately 60.75). \\n\\nPerforming the division, we find that 3691 is not divisible evenly by 2, 3, 5, 7, 11, 13, 17, 19, 23, 29, 31, 37, 41, 43, 47, 53, 59, or any other prime numbers less than its square root. \\n\\nTherefore, 3691 does not have any factors other than 1 and itself, making it a prime number.', 'To determine if 3691 is a prime number, we need to check if it is divisible by any numbers other than 1 and itself.\\n\\nTo do that, we can check if it is divisible by all prime numbers less than or equal to the square root of 3691.\\n\\nThe square root of 3691 is approximately 60.83. So, we need to check if 3691 is divisible by any prime numbers less than or equal to 60.\\n\\nBy checking, we can see that 3691 is not divisible by 2, 3, 5, 7, 11, 13, 17, 19, 23, 29, 31, 37, 41, 43, 47, 53, and 59.\\n\\nSince we have checked all prime numbers less than or equal to the square root of 3691, and it is not divisible by any of them, we can conclude that 3691 is a prime number.\\n\\nTherefore, the answer is yes, 3691 is a prime number.']\n"
     ]
    }
   ],
   "source": [
    "# fast self-evaluation\n",
    "t1 = time.time()\n",
    "fast_self_responses = llm_evaluate.self_evaluate_api(self_question = question, temperature = 1.0, self_num = 10)\n",
    "print('fast self evaluation time', time.time()-t1)\n",
    "print('fast self_responses', fast_self_responses)"
   ]
  },
  {
   "cell_type": "code",
   "execution_count": 5,
   "id": "c73237dd-8b66-47f9-bf91-805e674446f9",
   "metadata": {},
   "outputs": [
    {
     "name": "stdout",
     "output_type": "stream",
     "text": [
      "consistency check time 10.31699824333191\n",
      "consistency check result (0.1, [0, 0, 0, 0, 0, 0, 1, 0, 0, 0])\n"
     ]
    }
   ],
   "source": [
    "# consistency check \n",
    "scc = SemanticConsistnecyCheck(model='gpt-3.5-turbo')\n",
    "\n",
    "# consistency checker \n",
    "t2 = time.time()\n",
    "consistency_res = scc.score_scc(question, target_answer, candidate_answers = self_responses, temperature = 0.0)\n",
    "print('consistency check time', time.time()-t2)\n",
    "print('consistency check result', consistency_res)"
   ]
  },
  {
   "cell_type": "code",
   "execution_count": null,
   "id": "31e2303a-9c33-476a-a77d-70415a5ae16e",
   "metadata": {},
   "outputs": [],
   "source": []
  },
  {
   "cell_type": "code",
   "execution_count": 6,
   "id": "4a7258f8-a4ad-4023-977a-5b33357d2128",
   "metadata": {},
   "outputs": [
    {
     "name": "stdout",
     "output_type": "stream",
     "text": [
      "fast consistency check time 1.2028679847717285\n",
      "fast consistency check result (0.1, [1, 0, 0, 0, 0, 0, 0, 0, 0, 0])\n"
     ]
    }
   ],
   "source": [
    "# fast consistency checker \n",
    "t3 = time.time()\n",
    "fast_consistency_res = scc.score_scc_api(question, target_answer, candidate_answers = fast_self_responses, temperature = 0.0)\n",
    "print('fast consistency check time', time.time()-t3)\n",
    "print('fast consistency check result', fast_consistency_res)"
   ]
  }
 ],
 "metadata": {
  "kernelspec": {
   "display_name": "Python 3 (ipykernel)",
   "language": "python",
   "name": "python3"
  },
  "language_info": {
   "codemirror_mode": {
    "name": "ipython",
    "version": 3
   },
   "file_extension": ".py",
   "mimetype": "text/x-python",
   "name": "python",
   "nbconvert_exporter": "python",
   "pygments_lexer": "ipython3",
   "version": "3.10.6"
  }
 },
 "nbformat": 4,
 "nbformat_minor": 5
}
