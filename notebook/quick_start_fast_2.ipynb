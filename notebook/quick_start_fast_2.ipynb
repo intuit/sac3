{
 "cells": [
  {
   "cell_type": "code",
   "execution_count": 1,
   "id": "62c8b499-a16e-4d0b-906d-93c8cfb5e440",
   "metadata": {},
   "outputs": [],
   "source": [
    "from sac3 import paraphraser\n",
    "from sac3.evaluator_fast import Evaluate\n",
    "from sac3.consistency_checker_fast import SemanticConsistnecyCheck\n",
    "import time"
   ]
  },
  {
   "cell_type": "code",
   "execution_count": 2,
   "id": "1277bd32-4b64-4c9a-9532-d2d56a90d87d",
   "metadata": {},
   "outputs": [],
   "source": [
    "# input information\n",
    "# question = 'is 3691 a prime number?'\n",
    "# target_answer = 'Yes, it is a prime number.'\n",
    "\n",
    "question = 'Which city is the capital of Maryland?'\n",
    "target_answer = 'Annapolis'\n",
    "\n",
    "# llm evaluation\n",
    "llm_evaluate = Evaluate(model='gpt-3.5-turbo')"
   ]
  },
  {
   "cell_type": "code",
   "execution_count": 3,
   "id": "6fed6a3c-ef0c-4d60-9c24-5500c08e07d6",
   "metadata": {},
   "outputs": [
    {
     "name": "stdout",
     "output_type": "stream",
     "text": [
      "self evaluation time 4.8306169509887695\n",
      "self_responses ['The capital of Maryland is Annapolis.', 'The capital of Maryland is Annapolis.', 'The capital city of Maryland is Annapolis.', 'The capital city of Maryland is Annapolis.', 'A: The capital of Maryland is Annapolis.']\n"
     ]
    }
   ],
   "source": [
    "# self-evaluation \n",
    "t0 = time.time()\n",
    "self_responses = llm_evaluate.self_evaluate(self_question = question, temperature = 1.0, self_num = 5)\n",
    "print('self evaluation time', time.time()-t0)\n",
    "print('self_responses', self_responses)"
   ]
  },
  {
   "cell_type": "code",
   "execution_count": 4,
   "id": "1395cf38-4c4d-44eb-8417-43c60e81f1f9",
   "metadata": {},
   "outputs": [
    {
     "name": "stdout",
     "output_type": "stream",
     "text": [
      "fast self evaluation time 1.2136969566345215\n",
      "fast self_responses ['The capital of Maryland is Annapolis.', 'The capital city of Maryland is Annapolis.', 'The capital of Maryland is Annapolis.', 'The capital of Maryland is Annapolis.', 'The capital of Maryland is Annapolis.']\n"
     ]
    }
   ],
   "source": [
    "# fast self-evaluation\n",
    "t1 = time.time()\n",
    "fast_self_responses = llm_evaluate.self_evaluate_api(self_question = question, temperature = 1.0, self_num = 5)\n",
    "print('fast self evaluation time', time.time()-t1)\n",
    "print('fast self_responses', fast_self_responses)"
   ]
  },
  {
   "cell_type": "code",
   "execution_count": 5,
   "id": "c73237dd-8b66-47f9-bf91-805e674446f9",
   "metadata": {},
   "outputs": [
    {
     "name": "stdout",
     "output_type": "stream",
     "text": [
      "consistency check time 5.4009850025177\n",
      "consistency check result (0.0, [0, 0, 0, 0, 0])\n"
     ]
    }
   ],
   "source": [
    "# consistency check \n",
    "scc = SemanticConsistnecyCheck(model='gpt-3.5-turbo')\n",
    "\n",
    "# consistency checker \n",
    "t2 = time.time()\n",
    "consistency_res = scc.score_scc(question, target_answer, candidate_answers = self_responses, temperature = 0.0)\n",
    "print('consistency check time', time.time()-t2)\n",
    "print('consistency check result', consistency_res)"
   ]
  },
  {
   "cell_type": "code",
   "execution_count": null,
   "id": "31e2303a-9c33-476a-a77d-70415a5ae16e",
   "metadata": {},
   "outputs": [],
   "source": []
  },
  {
   "cell_type": "code",
   "execution_count": 6,
   "id": "4a7258f8-a4ad-4023-977a-5b33357d2128",
   "metadata": {},
   "outputs": [
    {
     "name": "stdout",
     "output_type": "stream",
     "text": [
      "fast consistency check time 1.0472538471221924\n",
      "fast consistency check result (0.0, [0, 0, 0, 0, 0])\n"
     ]
    }
   ],
   "source": [
    "# fast consistency checker \n",
    "t3 = time.time()\n",
    "fast_consistency_res = scc.score_scc_api(question, target_answer, candidate_answers = fast_self_responses, temperature = 0.0)\n",
    "print('fast consistency check time', time.time()-t3)\n",
    "print('fast consistency check result', fast_consistency_res)"
   ]
  }
 ],
 "metadata": {
  "kernelspec": {
   "display_name": "Python 3 (ipykernel)",
   "language": "python",
   "name": "python3"
  },
  "language_info": {
   "codemirror_mode": {
    "name": "ipython",
    "version": 3
   },
   "file_extension": ".py",
   "mimetype": "text/x-python",
   "name": "python",
   "nbconvert_exporter": "python",
   "pygments_lexer": "ipython3",
   "version": "3.10.6"
  }
 },
 "nbformat": 4,
 "nbformat_minor": 5
}
