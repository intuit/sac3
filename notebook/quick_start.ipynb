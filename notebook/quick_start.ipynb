{
 "cells": [
  {
   "cell_type": "code",
   "execution_count": 1,
   "id": "62c8b499-a16e-4d0b-906d-93c8cfb5e440",
   "metadata": {},
   "outputs": [],
   "source": [
    "from sac3 import paraphraser\n",
    "from sac3.evaluator import Evaluate\n",
    "from sac3.consistency_checker import SemanticConsistnecyCheck"
   ]
  },
  {
   "cell_type": "code",
   "execution_count": 2,
   "id": "1277bd32-4b64-4c9a-9532-d2d56a90d87d",
   "metadata": {},
   "outputs": [],
   "source": [
    "# input information\n",
    "question = 'is 3691 a prime number?'\n",
    "target_answer = 'No, it is not a prime number'\n",
    "\n",
    "# question pertubation\n",
    "gen_question = paraphraser.paraphrase(question, number = 5, model = 'gpt-3.5-turbo', temperature=1.0)\n",
    "\n",
    "# llm evaluation\n",
    "llm_evaluate = Evaluate(model='gpt-3.5-turbo')\n",
    "self_responses = llm_evaluate.self_evaluate(self_question = question, temperature = 1.0, self_num = 5)\n",
    "perb_responses = llm_evaluate.perb_evaluate(perb_questions = gen_question, temperature=0.0)"
   ]
  },
  {
   "cell_type": "code",
   "execution_count": 3,
   "id": "4019475b-836e-468b-af6f-4add4da3782a",
   "metadata": {},
   "outputs": [
    {
     "data": {
      "text/plain": [
       "['1. Can 3691 only be divided by 1 and itself?',\n",
       " '2. Are there any factors of 3691 other than 1 and itself?',\n",
       " '3. Does 3691 belong to the set of prime numbers?',\n",
       " '4. Is 3691 indivisible except by 1 and itself?',\n",
       " '5. Is 3691 not evenly divisible by any number other than 1 and itself?']"
      ]
     },
     "execution_count": 3,
     "metadata": {},
     "output_type": "execute_result"
    }
   ],
   "source": [
    "gen_question"
   ]
  },
  {
   "cell_type": "code",
   "execution_count": 4,
   "id": "3ffdbe66-5ca1-413b-bfa8-cbcdc50592b2",
   "metadata": {},
   "outputs": [
    {
     "data": {
      "text/plain": [
       "[\"A: We can check if 3691 is a prime number by testing if it's divisible by any prime number less than or equal to its square root. \\n\\nThe square root of 3691 is approximately 60.77, so we only need to check if it's divisible by prime numbers less than or equal to 60. \\n\\nWe can quickly eliminate even numbers, since 3691 is odd. \\n\\nDivisibility by 3:\\n3 + 6 + 9 + 1 = 19, which is not divisible by 3. Therefore, 3691 is not divisible by 3. \\n\\nDivisibility by 5:\\n3691 does not end in 5 or 0, so it's not divisible by 5. \\n\\nDivisibility by 7:\\nTo check if 3691 is divisible by 7, we can take the last digit (1) and double it, then subtract that result from the remaining digits (369 - 2 = 367). We can continue this process until we get a number we know the divisibility of. \\n\\n36 - 2*1 = 34\\n3 - 2*4 = -5\\n\\nSince -5 is not divisible by 7, neither is 3691. \\n\\nWe can continue checking for divisibility by other prime numbers, but it's clear that 3691 is not divisible by any primes less than or equal to 60. Therefore, 3691 is a prime number.\",\n",
       " 'Yes, 3691 is a prime number.',\n",
       " 'A: Yes, 3691 is a prime number.',\n",
       " 'No, 3691 is not a prime number. It is divisible by 7 and 17.',\n",
       " 'A: Yes, 3691 is a prime number.']"
      ]
     },
     "execution_count": 4,
     "metadata": {},
     "output_type": "execute_result"
    }
   ],
   "source": [
    "self_responses"
   ]
  },
  {
   "cell_type": "code",
   "execution_count": 5,
   "id": "87871dba-c06e-4862-ae3e-55a1727d7276",
   "metadata": {},
   "outputs": [
    {
     "data": {
      "text/plain": [
       "['As an AI language model, I can say that 3691 can only be divided by 1 and itself, as it is a prime number.',\n",
       " 'As an AI language model, I do not have the ability to manually factorize numbers. However, I can tell you that if there are any factors of 3691 other than 1 and itself, then 3691 would not be a prime number.',\n",
       " 'A: No, 3691 is not a prime number as it is divisible by 7 and 527.',\n",
       " 'A: Yes, 3691 is indivisible except by 1 and itself, making it a prime number.',\n",
       " 'As an AI language model, I can calculate that 3691 is not evenly divisible by any number other than 1 and itself. Therefore, it is a prime number.']"
      ]
     },
     "execution_count": 5,
     "metadata": {},
     "output_type": "execute_result"
    }
   ],
   "source": [
    "perb_responses"
   ]
  },
  {
   "cell_type": "code",
   "execution_count": 6,
   "id": "c73237dd-8b66-47f9-bf91-805e674446f9",
   "metadata": {},
   "outputs": [
    {
     "name": "stdout",
     "output_type": "stream",
     "text": [
      "Guess: No\n",
      "Probability: 0.9 No\n",
      "value 1\n",
      "Guess: No\n",
      "Probability: 0.9 No\n",
      "value 1\n",
      "Guess: No\n",
      "Probability: 0.9 No\n",
      "value 1\n",
      "Guess: Yes\n",
      "Probability: 0.9 Yes\n",
      "value 0\n",
      "Guess: No\n",
      "Probability: 0.9 No\n",
      "value 1\n",
      "0.8 [1, 1, 1, 0, 1]\n"
     ]
    }
   ],
   "source": [
    "# consistency check \n",
    "scc = SemanticConsistnecyCheck(model='gpt-3.5-turbo')\n",
    "\n",
    "sc2_score, sc2_vote = scc.score_scc(question, target_answer, candidate_answers = self_responses, temperature = 0.0)\n",
    "print(sc2_score, sc2_vote)"
   ]
  },
  {
   "cell_type": "code",
   "execution_count": 7,
   "id": "fcd755a5-64d8-4414-9fa9-72fc57536f2c",
   "metadata": {},
   "outputs": [
    {
     "name": "stdout",
     "output_type": "stream",
     "text": [
      "Guess: No\n",
      "Probability: 0.9 No\n",
      "value 1\n",
      "Guess: Yes\n",
      "Probability: 0.9 Yes\n",
      "value 0\n",
      "Guess: Yes\n",
      "Probability: 0.9 Yes\n",
      "value 0\n",
      "Guess: No\n",
      "Probability: 0.9 No\n",
      "value 1\n",
      "Guess: No\n",
      "Probability: 0.9 No\n",
      "value 1\n",
      "0.6 [1, 0, 0, 1, 1]\n"
     ]
    }
   ],
   "source": [
    "sac3_q_score, sac3_q_vote = scc.score_scc(question, target_answer, candidate_answers = perb_responses, temperature = 0.0)\n",
    "print(sac3_q_score, sac3_q_vote)"
   ]
  }
 ],
 "metadata": {
  "kernelspec": {
   "display_name": "Python 3 (ipykernel)",
   "language": "python",
   "name": "python3"
  },
  "language_info": {
   "codemirror_mode": {
    "name": "ipython",
    "version": 3
   },
   "file_extension": ".py",
   "mimetype": "text/x-python",
   "name": "python",
   "nbconvert_exporter": "python",
   "pygments_lexer": "ipython3",
   "version": "3.10.6"
  }
 },
 "nbformat": 4,
 "nbformat_minor": 5
}
